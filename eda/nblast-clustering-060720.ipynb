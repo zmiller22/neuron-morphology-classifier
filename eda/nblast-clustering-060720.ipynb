{
 "cells": [
  {
   "cell_type": "code",
   "execution_count": 34,
   "metadata": {},
   "outputs": [],
   "source": [
    "library(nat)\n",
    "library(nat.nblast)"
   ]
  },
  {
   "cell_type": "code",
   "execution_count": 6,
   "metadata": {},
   "outputs": [],
   "source": [
    "# Set paths for neurons and NBLAST\n",
    "nrn.dir.path <- \"/home/zack/Desktop/Lab_Work/Data/neuron_morphologies/Zebrafish/aligned_040120/Zbrain_neurons_flipped_right\"\n",
    "nblast.output.path <- \"/home/zack/Desktop/Lab_Work/Projects/neuron-morphology-classifier/data/nblast\""
   ]
  },
  {
   "cell_type": "code",
   "execution_count": 4,
   "metadata": {},
   "outputs": [
    {
     "ename": "ERROR",
     "evalue": "Error in read.neurons(nrn.dir, format = \"swc\"): could not find function \"read.neurons\"\n",
     "output_type": "error",
     "traceback": [
      "Error in read.neurons(nrn.dir, format = \"swc\"): could not find function \"read.neurons\"\nTraceback:\n"
     ]
    }
   ],
   "source": [
    "# Read in the neurons\n",
    "nrns <- read.neurons(nrn.dir, format=\"swc\")"
   ]
  },
  {
   "cell_type": "code",
   "execution_count": 16,
   "metadata": {},
   "outputs": [],
   "source": [
    "# Convert neurons to dotprops \n",
    "nrns.dps <- dotprops(nrns, stepsize=1, OmitFailures=TRUE)"
   ]
  },
  {
   "cell_type": "code",
   "execution_count": 45,
   "metadata": {},
   "outputs": [],
   "source": [
    "# Perform NBLAST all-by-all scoring and save to a .csv file\n",
    "nrn.scores <- nblast_allbyall(nrns.dps, distance=TRUE, normalisation=\"mean\")\n",
    "write.csv(nrn.scores, paste(nblast.output.path, \"/nblast_aba_norm_mean_distance_060920.csv\", sep=\"\"), row.names = TRUE)"
   ]
  },
  {
   "cell_type": "markdown",
   "metadata": {},
   "source": [
    "When converting the neurons to the dotprops (dps) representation, I used the same arguments to the `dotprops()` function as Dr. Kunst used in his paper. However, when calling `nblast_allbyall()`, I used all the same arguments except I set `distance=TRUE`. This is because the `cmdscale()` implimentation of mulitdimensional scaling in R requires a dissimilarity matrix rather than a similarity matrix. The output of `nblast_allbyall()` is by default a score matrix, which is a form of similarity matrix. Therefore, I `distance=TRUE` to get a distance matrix as the output, which is a form of dissimilarity matrix. "
   ]
  },
  {
   "cell_type": "code",
   "execution_count": 1,
   "metadata": {},
   "outputs": [],
   "source": [
    "lbl.path <- \"/home/zack/Desktop/Lab_Work/Projects/neuron-morphology-classifier/data/neurons/MPIN_040120/metadata.csv\"\n",
    "nrn.dists.path <- \"/home/zack/Desktop/Lab_Work/Projects/neuron-morphology-classifier/data/nblast/nblast_aba_mean_norm_distance_060920.csv\"\n",
    "nrn.dists <- read.csv(file=nrn.dists.path, row.names=1)"
   ]
  },
  {
   "cell_type": "code",
   "execution_count": 34,
   "metadata": {},
   "outputs": [],
   "source": [
    "# Perform multidimensional scaling on the distance matrix\n",
    "mds.fit <- cmdscale(nrn.dists, eig=TRUE, k=5)"
   ]
  },
  {
   "cell_type": "code",
   "execution_count": 35,
   "metadata": {},
   "outputs": [
    {
     "data": {
      "text/html": [
       "<table>\n",
       "<caption>A data.frame: 6 × 8</caption>\n",
       "<thead>\n",
       "\t<tr><th></th><th scope=col>Row.names</th><th scope=col>V1</th><th scope=col>V2</th><th scope=col>V3</th><th scope=col>V4</th><th scope=col>V5</th><th scope=col>cell_type</th><th scope=col>gal4</th></tr>\n",
       "\t<tr><th></th><th scope=col>&lt;I&lt;chr&gt;&gt;</th><th scope=col>&lt;dbl&gt;</th><th scope=col>&lt;dbl&gt;</th><th scope=col>&lt;dbl&gt;</th><th scope=col>&lt;dbl&gt;</th><th scope=col>&lt;dbl&gt;</th><th scope=col>&lt;chr&gt;</th><th scope=col>&lt;chr&gt;</th></tr>\n",
       "</thead>\n",
       "<tbody>\n",
       "\t<tr><th scope=row>1</th><td>20150327_1013_BGUG_HuC_ltRFP_d5_F2.swc        </td><td> 0.13910267</td><td>-0.5550695</td><td>-0.25440979</td><td> 0.13839882</td><td> 0.08556119</td><td>PVPN Class 3</td><td>s1013tET</td></tr>\n",
       "\t<tr><th scope=row>2</th><td>20150402_1013_BGUG_HuC_ltRFP_d5_F3.swc        </td><td> 0.28128859</td><td>-0.4230209</td><td>-0.47328761</td><td> 0.18080868</td><td> 0.14423815</td><td>PVPN Class 3</td><td>s1013tET</td></tr>\n",
       "\t<tr><th scope=row>3</th><td>20160512_1013_BGUG_HuC_ltRFP_d6_F6_Neuron2.swc</td><td> 0.08056456</td><td>-0.5817235</td><td>-0.26444687</td><td> 0.10982740</td><td> 0.13622997</td><td>PVPN Class 3</td><td>s1013tET</td></tr>\n",
       "\t<tr><th scope=row>4</th><td>20160519_1013_BGUG_HuC_ltRFP_d6_F1.swc        </td><td> 0.06127568</td><td>-0.6636909</td><td>-0.04727542</td><td>-0.16621728</td><td>-0.11006489</td><td>PVPN Class 1</td><td>s1013tET</td></tr>\n",
       "\t<tr><th scope=row>5</th><td>20160519_1013_BGUG_HuC_ltRFP_d6_F6.swc        </td><td> 0.08260032</td><td>-0.6514123</td><td>-0.04009604</td><td>-0.11921497</td><td>-0.25640153</td><td>PVPN Class 1</td><td>s1013tET</td></tr>\n",
       "\t<tr><th scope=row>6</th><td>20160526_1013_BGUG_HuC_ltRFP_d6_F2_Neuron1.swc</td><td>-0.04487396</td><td>-0.3016584</td><td>-0.12132706</td><td> 0.02406155</td><td> 0.20506150</td><td>PVPN Class 3</td><td>s1013tET</td></tr>\n",
       "</tbody>\n",
       "</table>\n"
      ],
      "text/latex": [
       "A data.frame: 6 × 8\n",
       "\\begin{tabular}{r|llllllll}\n",
       "  & Row.names & V1 & V2 & V3 & V4 & V5 & cell\\_type & gal4\\\\\n",
       "  & <I<chr>> & <dbl> & <dbl> & <dbl> & <dbl> & <dbl> & <chr> & <chr>\\\\\n",
       "\\hline\n",
       "\t1 & 20150327\\_1013\\_BGUG\\_HuC\\_ltRFP\\_d5\\_F2.swc         &  0.13910267 & -0.5550695 & -0.25440979 &  0.13839882 &  0.08556119 & PVPN Class 3 & s1013tET\\\\\n",
       "\t2 & 20150402\\_1013\\_BGUG\\_HuC\\_ltRFP\\_d5\\_F3.swc         &  0.28128859 & -0.4230209 & -0.47328761 &  0.18080868 &  0.14423815 & PVPN Class 3 & s1013tET\\\\\n",
       "\t3 & 20160512\\_1013\\_BGUG\\_HuC\\_ltRFP\\_d6\\_F6\\_Neuron2.swc &  0.08056456 & -0.5817235 & -0.26444687 &  0.10982740 &  0.13622997 & PVPN Class 3 & s1013tET\\\\\n",
       "\t4 & 20160519\\_1013\\_BGUG\\_HuC\\_ltRFP\\_d6\\_F1.swc         &  0.06127568 & -0.6636909 & -0.04727542 & -0.16621728 & -0.11006489 & PVPN Class 1 & s1013tET\\\\\n",
       "\t5 & 20160519\\_1013\\_BGUG\\_HuC\\_ltRFP\\_d6\\_F6.swc         &  0.08260032 & -0.6514123 & -0.04009604 & -0.11921497 & -0.25640153 & PVPN Class 1 & s1013tET\\\\\n",
       "\t6 & 20160526\\_1013\\_BGUG\\_HuC\\_ltRFP\\_d6\\_F2\\_Neuron1.swc & -0.04487396 & -0.3016584 & -0.12132706 &  0.02406155 &  0.20506150 & PVPN Class 3 & s1013tET\\\\\n",
       "\\end{tabular}\n"
      ],
      "text/markdown": [
       "\n",
       "A data.frame: 6 × 8\n",
       "\n",
       "| <!--/--> | Row.names &lt;I&lt;chr&gt;&gt; | V1 &lt;dbl&gt; | V2 &lt;dbl&gt; | V3 &lt;dbl&gt; | V4 &lt;dbl&gt; | V5 &lt;dbl&gt; | cell_type &lt;chr&gt; | gal4 &lt;chr&gt; |\n",
       "|---|---|---|---|---|---|---|---|---|\n",
       "| 1 | 20150327_1013_BGUG_HuC_ltRFP_d5_F2.swc         |  0.13910267 | -0.5550695 | -0.25440979 |  0.13839882 |  0.08556119 | PVPN Class 3 | s1013tET |\n",
       "| 2 | 20150402_1013_BGUG_HuC_ltRFP_d5_F3.swc         |  0.28128859 | -0.4230209 | -0.47328761 |  0.18080868 |  0.14423815 | PVPN Class 3 | s1013tET |\n",
       "| 3 | 20160512_1013_BGUG_HuC_ltRFP_d6_F6_Neuron2.swc |  0.08056456 | -0.5817235 | -0.26444687 |  0.10982740 |  0.13622997 | PVPN Class 3 | s1013tET |\n",
       "| 4 | 20160519_1013_BGUG_HuC_ltRFP_d6_F1.swc         |  0.06127568 | -0.6636909 | -0.04727542 | -0.16621728 | -0.11006489 | PVPN Class 1 | s1013tET |\n",
       "| 5 | 20160519_1013_BGUG_HuC_ltRFP_d6_F6.swc         |  0.08260032 | -0.6514123 | -0.04009604 | -0.11921497 | -0.25640153 | PVPN Class 1 | s1013tET |\n",
       "| 6 | 20160526_1013_BGUG_HuC_ltRFP_d6_F2_Neuron1.swc | -0.04487396 | -0.3016584 | -0.12132706 |  0.02406155 |  0.20506150 | PVPN Class 3 | s1013tET |\n",
       "\n"
      ],
      "text/plain": [
       "  Row.names                                      V1          V2        \n",
       "1 20150327_1013_BGUG_HuC_ltRFP_d5_F2.swc          0.13910267 -0.5550695\n",
       "2 20150402_1013_BGUG_HuC_ltRFP_d5_F3.swc          0.28128859 -0.4230209\n",
       "3 20160512_1013_BGUG_HuC_ltRFP_d6_F6_Neuron2.swc  0.08056456 -0.5817235\n",
       "4 20160519_1013_BGUG_HuC_ltRFP_d6_F1.swc          0.06127568 -0.6636909\n",
       "5 20160519_1013_BGUG_HuC_ltRFP_d6_F6.swc          0.08260032 -0.6514123\n",
       "6 20160526_1013_BGUG_HuC_ltRFP_d6_F2_Neuron1.swc -0.04487396 -0.3016584\n",
       "  V3          V4          V5          cell_type    gal4    \n",
       "1 -0.25440979  0.13839882  0.08556119 PVPN Class 3 s1013tET\n",
       "2 -0.47328761  0.18080868  0.14423815 PVPN Class 3 s1013tET\n",
       "3 -0.26444687  0.10982740  0.13622997 PVPN Class 3 s1013tET\n",
       "4 -0.04727542 -0.16621728 -0.11006489 PVPN Class 1 s1013tET\n",
       "5 -0.04009604 -0.11921497 -0.25640153 PVPN Class 1 s1013tET\n",
       "6 -0.12132706  0.02406155  0.20506150 PVPN Class 3 s1013tET"
      ]
     },
     "metadata": {},
     "output_type": "display_data"
    }
   ],
   "source": [
    "# Read in the neuron metadata\n",
    "lbl.df <- read.csv(file=lbl.path)\n",
    "\n",
    "# Edit all the row names for merging with mds.fit$points\n",
    "lbl.df$Neuron_name <- paste0(lbl.df$Neuron_name, \".swc\")\n",
    "row.names(lbl.df) <- lbl.df$Neuron_name\n",
    "\n",
    "# Merge the labels with mds.fit$points\n",
    "points <- as.data.frame(mds.fit$points)\n",
    "plot.df <- merge(points,lbl.df[c(\"cell_type\",\"gal4\")], by=\"row.names\", all=TRUE)\n",
    "\n",
    "# Convert datatypes of columns from factors to strings\n",
    "fct.cols <- sapply(plot.df, is.factor)\n",
    "plot.df[,fct.cols] <- sapply(plot.df[,fct.cols], as.character)\n",
    "\n",
    "# Check results\n",
    "head(plot.df)"
   ]
  },
  {
   "cell_type": "code",
   "execution_count": 36,
   "metadata": {},
   "outputs": [
    {
     "data": {
      "text/plain": [
       "nt\n",
       "   1    2    3 \n",
       "2916   64  139 "
      ]
     },
     "metadata": {},
     "output_type": "display_data"
    }
   ],
   "source": [
    "# Create neurotransmitter label groups\n",
    "nt.lbls <- plot.df$gal4\n",
    "nt <- NA\n",
    "nt[nt.lbls!=\"vGlut2a\" & nt.lbls!=\"Gad1b\"] <- 1\n",
    "nt[is.na(nt)] <- 1\n",
    "nt[nt.lbls==\"Gad1b (mpn155)\"] <- 2\n",
    "nt[nt.lbls==\"vGlut2a\"] <- 3\n",
    "\n",
    "# Check that the numbers of each are roughly correct\n",
    "table(nt)"
   ]
  },
  {
   "cell_type": "code",
   "execution_count": 38,
   "metadata": {},
   "outputs": [
    {
     "data": {
      "text/html": [
       "<strong>png:</strong> 2"
      ],
      "text/latex": [
       "\\textbf{png:} 2"
      ],
      "text/markdown": [
       "**png:** 2"
      ],
      "text/plain": [
       "png \n",
       "  2 "
      ]
     },
     "metadata": {},
     "output_type": "display_data"
    }
   ],
   "source": [
    "nt.colors <- c(rgb(0.8,0.8,0.8,0.2), \"purple\", \"red\")\n",
    "nt.styles <- c(1, 15, 17, 18, 16)\n",
    "nt.legend.txt <- c(\"Unknown\", \"Gad1b\", \"vGlut2a\")\n",
    "\n",
    "# Plot with neurotransmitter labels colored\n",
    "png(\"colored_nt.png\", width=10, height=10, units=\"in\", res=600)\n",
    "pairs(plot.df[,2:6],\n",
    "      main=\"Title\",\n",
    "      col=nt.colors[nt],\n",
    "      pch=nt.styles[nt],\n",
    "      oma=c(3,3,3,15))\n",
    "par(xpd=TRUE)\n",
    "legend(\"topright\", fill=c(rgb(0.8,0.8,0.8,0.3), \"purple\", \"red\"), legend=nt.legend.txt)\n",
    "dev.off()"
   ]
  },
  {
   "cell_type": "code",
   "execution_count": 6,
   "metadata": {},
   "outputs": [
    {
     "data": {
      "text/plain": [
       "ct\n",
       "   1    2    3    4    5 \n",
       "2752  154  116   55   42 "
      ]
     },
     "metadata": {},
     "output_type": "display_data"
    }
   ],
   "source": [
    "# Create cell type label groups\n",
    "ct.lbls <- plot.df$cell_type\n",
    "ct <- NA\n",
    "ct[is.na(ct.lbls)] <- 1\n",
    "ct[grep('PVPN', ct.lbls, fixed=FALSE)] <- 2\n",
    "ct[ct.lbls==\"Eurydendroid Cells\"] <- 3\n",
    "ct[ct.lbls==\"Mitral Cells\"] <- 4\n",
    "ct[ct.lbls==\"Retinal Ganglion Cells\"] <- 5\n",
    "\n",
    "# Check that the numbers of each are roughly correct\n",
    "table(ct)"
   ]
  },
  {
   "cell_type": "code",
   "execution_count": 39,
   "metadata": {},
   "outputs": [
    {
     "data": {
      "text/html": [
       "<strong>png:</strong> 2"
      ],
      "text/latex": [
       "\\textbf{png:} 2"
      ],
      "text/markdown": [
       "**png:** 2"
      ],
      "text/plain": [
       "png \n",
       "  2 "
      ]
     },
     "metadata": {},
     "output_type": "display_data"
    }
   ],
   "source": [
    "ct.colors <- c(rgb(0.8,0.8,0.8,0.2), \"purple\", \"red\", \"blue\", \"orange\")\n",
    "ct.styles <- c(1, 15, 17, 18, 16)\n",
    "ct.legend.txt <- c(\"Unkown\", \"PVPN Cells\", \"Eurydendroid Cells\", \"Mitral Cells\", \"Retinal Ganglion Cells\")\n",
    "\n",
    "# Plot with neurotransmitter labels colored\n",
    "png(\"colored_ct.png\", width=10, height=10, units=\"in\", res=600)\n",
    "pairs(plot.df[,2:6],\n",
    "     main=\"Title\",\n",
    "     col=ct.colors[ct],\n",
    "     pch=ct.styles[ct],\n",
    "     oma=c(3,3,3,22))\n",
    "par(xpd=TRUE)\n",
    "legend(\"topright\", fill=ct.colors, legend=ct.legend.txt)\n",
    "dev.off()"
   ]
  },
  {
   "cell_type": "code",
   "execution_count": 21,
   "metadata": {},
   "outputs": [
    {
     "data": {
      "text/html": [
       "<style>\n",
       ".list-inline {list-style: none; margin:0; padding: 0}\n",
       ".list-inline>li {display: inline-block}\n",
       ".list-inline>li:not(:last-child)::after {content: \"\\00b7\"; padding: 0 .5ex}\n",
       "</style>\n",
       "<ol class=list-inline><li>'PVPN Class 3'</li><li>'PVPN Class 1'</li><li>'PVPN Class 4'</li><li>'PVPN Class 6b'</li><li>'PVPN'</li><li>'PVPN Class 7'</li><li>'PVPN Class 5'</li><li>'PVPN Class 6a'</li><li>'PVPN Class 2'</li><li>'Mitral Cells'</li><li>NA</li><li>'Eurydendroid Cells'</li><li>'Retinal Ganglion Cells'</li></ol>\n"
      ],
      "text/latex": [
       "\\begin{enumerate*}\n",
       "\\item 'PVPN Class 3'\n",
       "\\item 'PVPN Class 1'\n",
       "\\item 'PVPN Class 4'\n",
       "\\item 'PVPN Class 6b'\n",
       "\\item 'PVPN'\n",
       "\\item 'PVPN Class 7'\n",
       "\\item 'PVPN Class 5'\n",
       "\\item 'PVPN Class 6a'\n",
       "\\item 'PVPN Class 2'\n",
       "\\item 'Mitral Cells'\n",
       "\\item NA\n",
       "\\item 'Eurydendroid Cells'\n",
       "\\item 'Retinal Ganglion Cells'\n",
       "\\end{enumerate*}\n"
      ],
      "text/markdown": [
       "1. 'PVPN Class 3'\n",
       "2. 'PVPN Class 1'\n",
       "3. 'PVPN Class 4'\n",
       "4. 'PVPN Class 6b'\n",
       "5. 'PVPN'\n",
       "6. 'PVPN Class 7'\n",
       "7. 'PVPN Class 5'\n",
       "8. 'PVPN Class 6a'\n",
       "9. 'PVPN Class 2'\n",
       "10. 'Mitral Cells'\n",
       "11. NA\n",
       "12. 'Eurydendroid Cells'\n",
       "13. 'Retinal Ganglion Cells'\n",
       "\n",
       "\n"
      ],
      "text/plain": [
       " [1] \"PVPN Class 3\"           \"PVPN Class 1\"           \"PVPN Class 4\"          \n",
       " [4] \"PVPN Class 6b\"          \"PVPN\"                   \"PVPN Class 7\"          \n",
       " [7] \"PVPN Class 5\"           \"PVPN Class 6a\"          \"PVPN Class 2\"          \n",
       "[10] \"Mitral Cells\"           NA                       \"Eurydendroid Cells\"    \n",
       "[13] \"Retinal Ganglion Cells\""
      ]
     },
     "metadata": {},
     "output_type": "display_data"
    }
   ],
   "source": [
    "unique(ct.lbls)"
   ]
  },
  {
   "cell_type": "code",
   "execution_count": 25,
   "metadata": {},
   "outputs": [
    {
     "data": {
      "text/plain": [
       "sct\n",
       "   1    2    3    4    5    6    7    8    9 \n",
       "2752   19    5   56    8   14    3    9   17 "
      ]
     },
     "metadata": {},
     "output_type": "display_data"
    }
   ],
   "source": [
    "# Create PVPN subtype label groups\n",
    "sct <- NA\n",
    "sct[is.na(ct.lbls)] <- 1\n",
    "sct[grep('PVPN Class 1', ct.lbls, fixed=FALSE)] <- 2\n",
    "sct[grep('PVPN Class 2', ct.lbls, fixed=FALSE)] <- 3\n",
    "sct[grep('PVPN Class 3', ct.lbls, fixed=FALSE)] <- 4\n",
    "sct[grep('PVPN Class 4', ct.lbls, fixed=FALSE)] <- 5\n",
    "sct[grep('PVPN Class 5', ct.lbls, fixed=FALSE)] <- 6\n",
    "sct[grep('PVPN Class 6a', ct.lbls, fixed=FALSE)] <- 7\n",
    "sct[grep('PVPN Class 6b', ct.lbls, fixed=FALSE)] <- 8\n",
    "sct[grep('PVPN Class 7', ct.lbls, fixed=FALSE)] <- 9\n",
    "\n",
    "\n",
    "\n",
    "# Check that the numbers of each are roughly correct\n",
    "table(sct)"
   ]
  },
  {
   "cell_type": "code",
   "execution_count": 42,
   "metadata": {},
   "outputs": [
    {
     "data": {
      "text/html": [
       "<strong>png:</strong> 2"
      ],
      "text/latex": [
       "\\textbf{png:} 2"
      ],
      "text/markdown": [
       "**png:** 2"
      ],
      "text/plain": [
       "png \n",
       "  2 "
      ]
     },
     "metadata": {},
     "output_type": "display_data"
    }
   ],
   "source": [
    "sct.colors <- c(rgb(0.8,0.8,0.8,0.05), \"purple\", \"red\", \"blue\", \"orange\", \"cyan\", \"magenta\", \"yellow\", \"brown\")\n",
    "sct.styles <- c(1, 3, 4, 15, 16, 17, 18)\n",
    "sct.legend.txt <- c(\"Unkown\", \"PVPN Class 1\", \"PVPN Class 2\",\"PVPN Class 3\",\"PVPN Class 4\",\n",
    "                    \"PVPN Class 5\",\"PVPN Class 6a\",\"PVPN Class 6b\",\"PVPN Class 7\")\n",
    "# Plot with neurotransmitter labels colored\n",
    "png(\"colored_sct.png\", width=10, height=10, units=\"in\", res=600)\n",
    "pairs(plot.df[,2:6],\n",
    "     main=\"Title\",\n",
    "     col=sct.colors[sct],\n",
    "     pch=sct.styles[sct],\n",
    "     oma=c(3,3,3,22))\n",
    "par(xpd=TRUE)\n",
    "legend(\"topright\", fill=sct.colors, legend=sct.legend.txt)\n",
    "dev.off()"
   ]
  },
  {
   "cell_type": "code",
   "execution_count": 8,
   "metadata": {},
   "outputs": [],
   "source": [
    "#TODO plot the true vs projected point distances\n",
    "d <- dist(plot.df[,2:4])"
   ]
  },
  {
   "cell_type": "code",
   "execution_count": 9,
   "metadata": {},
   "outputs": [
    {
     "data": {
      "text/html": [
       "<style>\n",
       ".list-inline {list-style: none; margin:0; padding: 0}\n",
       ".list-inline>li {display: inline-block}\n",
       ".list-inline>li:not(:last-child)::after {content: \"\\00b7\"; padding: 0 .5ex}\n",
       "</style>\n",
       "<ol class=list-inline><li>0.292508411290802</li><li>0.0650990927611988</li><li>0.246496028007342</li><li>0.241670925483396</li><li>0.340258111660866</li><li>0.429816973483002</li></ol>\n"
      ],
      "text/latex": [
       "\\begin{enumerate*}\n",
       "\\item 0.292508411290802\n",
       "\\item 0.0650990927611988\n",
       "\\item 0.246496028007342\n",
       "\\item 0.241670925483396\n",
       "\\item 0.340258111660866\n",
       "\\item 0.429816973483002\n",
       "\\end{enumerate*}\n"
      ],
      "text/markdown": [
       "1. 0.292508411290802\n",
       "2. 0.0650990927611988\n",
       "3. 0.246496028007342\n",
       "4. 0.241670925483396\n",
       "5. 0.340258111660866\n",
       "6. 0.429816973483002\n",
       "\n",
       "\n"
      ],
      "text/plain": [
       "[1] 0.29250841 0.06509909 0.24649603 0.24167093 0.34025811 0.42981697"
      ]
     },
     "metadata": {},
     "output_type": "display_data"
    }
   ],
   "source": [
    "head(d)"
   ]
  },
  {
   "cell_type": "code",
   "execution_count": 10,
   "metadata": {},
   "outputs": [
    {
     "data": {
      "text/html": [
       "<style>\n",
       ".list-inline {list-style: none; margin:0; padding: 0}\n",
       ".list-inline>li {display: inline-block}\n",
       ".list-inline>li:not(:last-child)::after {content: \"\\00b7\"; padding: 0 .5ex}\n",
       "</style>\n",
       "<ol class=list-inline><li>0.0514612818415019</li><li>0.0445056327512499</li><li>0.0384765996366415</li><li>0.0329830144305306</li><li>0.0242589820810642</li><li>0.0227258414232671</li></ol>\n"
      ],
      "text/latex": [
       "\\begin{enumerate*}\n",
       "\\item 0.0514612818415019\n",
       "\\item 0.0445056327512499\n",
       "\\item 0.0384765996366415\n",
       "\\item 0.0329830144305306\n",
       "\\item 0.0242589820810642\n",
       "\\item 0.0227258414232671\n",
       "\\end{enumerate*}\n"
      ],
      "text/markdown": [
       "1. 0.0514612818415019\n",
       "2. 0.0445056327512499\n",
       "3. 0.0384765996366415\n",
       "4. 0.0329830144305306\n",
       "5. 0.0242589820810642\n",
       "6. 0.0227258414232671\n",
       "\n",
       "\n"
      ],
      "text/plain": [
       "[1] 0.05146128 0.04450563 0.03847660 0.03298301 0.02425898 0.02272584"
      ]
     },
     "metadata": {},
     "output_type": "display_data"
    }
   ],
   "source": [
    "eig.abs.sum <- sum(abs(mds.fit$eig))\n",
    "eig.portions <- abs(mds.fit$eig)/eig.abs.sum\n",
    "head(eig.portions)"
   ]
  },
  {
   "cell_type": "code",
   "execution_count": 11,
   "metadata": {},
   "outputs": [
    {
     "data": {
      "image/png": "[encoded data removed]",
      "text/plain": [
       "plot without title"
      ]
     },
     "metadata": {
      "image/png": {
       "height": 420,
       "width": 420
      },
      "text/plain": {
       "height": 420,
       "width": 420
      }
     },
     "output_type": "display_data"
    }
   ],
   "source": [
    "plot(eig.portions[c(1:50)], type='o')"
   ]
  },
  {
   "cell_type": "code",
   "execution_count": null,
   "metadata": {},
   "outputs": [],
   "source": []
  }
 ],
 "metadata": {
  "kernelspec": {
   "display_name": "R",
   "language": "R",
   "name": "ir"
  },
  "language_info": {
   "codemirror_mode": "r",
   "file_extension": ".r",
   "mimetype": "text/x-r-source",
   "name": "R",
   "pygments_lexer": "r",
   "version": "3.6.2"
  }
 },
 "nbformat": 4,
 "nbformat_minor": 4
}
