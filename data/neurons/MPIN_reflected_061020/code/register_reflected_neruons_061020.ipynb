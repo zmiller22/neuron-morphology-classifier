{
 "cells": [
  {
   "cell_type": "code",
   "execution_count": 8,
   "metadata": {},
   "outputs": [
    {
     "ename": "ERROR",
     "evalue": "Error in library(nat.cmtk): there is no package called ‘nat.cmtk’\n",
     "output_type": "error",
     "traceback": [
      "Error in library(nat.cmtk): there is no package called ‘nat.cmtk’\nTraceback:\n",
      "1. library(nat.cmtk)"
     ]
    }
   ],
   "source": [
    "library(nat)"
   ]
  },
  {
   "cell_type": "code",
   "execution_count": 1,
   "metadata": {},
   "outputs": [
    {
     "name": "stderr",
     "output_type": "stream",
     "text": [
      "Bioconductor version 3.10 (BiocManager 1.30.10), R 3.6.2 (2019-12-12)\n",
      "\n",
      "also installing the dependency ‘roxygen2’\n",
      "\n",
      "\n",
      "Updating HTML index of packages in '.Library'\n",
      "\n",
      "Making 'packages.html' ...\n",
      " done\n",
      "\n",
      "Using neurocLite version: # neurocInstall package version: 0.12.0\n",
      "\n"
     ]
    }
   ],
   "source": [
    "source(\"https://neuroconductor.org/neurocLite.R\")"
   ]
  },
  {
   "cell_type": "code",
   "execution_count": 2,
   "metadata": {},
   "outputs": [
    {
     "name": "stderr",
     "output_type": "stream",
     "text": [
      "also installing the dependency ‘ITKR’\n",
      "\n",
      "\n",
      "Warning message in (function (pkgs, lib, repos = getOption(\"repos\"), contriburl = contrib.url(repos, :\n",
      "“installation of package ‘ITKR’ had non-zero exit status”\n",
      "Warning message in (function (pkgs, lib, repos = getOption(\"repos\"), contriburl = contrib.url(repos, :\n",
      "“installation of package ‘ANTsRCore’ had non-zero exit status”\n",
      "Updating HTML index of packages in '.Library'\n",
      "\n",
      "Making 'packages.html' ...\n",
      " done\n",
      "\n",
      "Warning message in neuro_install(\"ANTsRCore\"):\n",
      "“Package(s): ANTsRCore released binaries/sources were not installed, please try to install with release_repo = \"github\"”\n"
     ]
    }
   ],
   "source": [
    "neuro_install('ANTsRCore')"
   ]
  },
  {
   "cell_type": "code",
   "execution_count": null,
   "metadata": {},
   "outputs": [
    {
     "name": "stderr",
     "output_type": "stream",
     "text": [
      "Updating HTML index of packages in '.Library'\n",
      "\n",
      "Making 'packages.html' ...\n",
      " done\n",
      "\n",
      "Bioconductor version 3.10 (BiocManager 1.30.10), R 3.6.2 (2019-12-12)\n",
      "\n",
      "Installing package(s) 'BiocVersion'\n",
      "\n",
      "Updating HTML index of packages in '.Library'\n",
      "\n",
      "Making 'packages.html' ...\n",
      " done\n",
      "\n",
      "also installing the dependencies ‘xopen’, ‘brew’, ‘DT’, ‘rcmdcheck’, ‘roxygen2’, ‘rversions’\n",
      "\n",
      "\n"
     ]
    }
   ],
   "source": [
    "source(\"https://neuroconductor.org/neurocLite.R\")"
   ]
  },
  {
   "cell_type": "code",
   "execution_count": null,
   "metadata": {},
   "outputs": [],
   "source": []
  },
  {
   "cell_type": "code",
   "execution_count": 2,
   "metadata": {},
   "outputs": [],
   "source": [
    "# Read the neurons into a neuron list\n",
    "right.nrn.dir.path <- \"/home/zack/Desktop/Lab_Work/Projects/neuron-morphology-classifier/data/neurons/MPIN_reflected_061020/temp_neurons/flipped_to_right\"\n",
    "left.nrn.dir.path <- \"/home/zack/Desktop/Lab_Work/Projects/neuron-morphology-classifier/data/neurons/MPIN_reflected_061020/temp_neurons/flipped_to_left\"\n",
    "right.nrns <- read.neurons(right.nrn.dir.path, format=\"swc\")\n",
    "left.nrns <- read.neurons(left.nrn.dir.path, format=\"swc\")"
   ]
  },
  {
   "cell_type": "code",
   "execution_count": 9,
   "metadata": {},
   "outputs": [],
   "source": [
    "reg <- cmtkreg(\"/home/zack/Downloads/Registration/T_bridgingMirroring_1Warp.nii\")"
   ]
  },
  {
   "cell_type": "code",
   "execution_count": 12,
   "metadata": {},
   "outputs": [
    {
     "ename": "ERROR",
     "evalue": "Error in cmtk.streamxform(points, reg, direction, transformtype): Error running CMTK streamxform!\n",
     "output_type": "error",
     "traceback": [
      "Error in cmtk.streamxform(points, reg, direction, transformtype): Error running CMTK streamxform!\nTraceback:\n",
      "1. xform(right.nrns, reg)",
      "2. xform.neuronlist(right.nrns, reg)",
      "3. nlapply(x, FUN = xform, reg = reg, ..., subset = subset, OmitFailures = OmitFailures)",
      "4. structure(plyr::llply(X, TFUN, ..., .progress = .progress), class = cl, \n .     df = attr(X, \"df\"))",
      "5. plyr::llply(X, TFUN, ..., .progress = .progress)",
      "6. structure(lapply(pieces, .fun, ...), dim = dim(pieces))",
      "7. lapply(pieces, .fun, ...)",
      "8. FUN(X[[i]], ...)",
      "9. xform.neuron(X[[i]], ...)",
      "10. xformpoints(reg, points, FallBackToAffine = FallBackToAffine, \n  .     na.action = na.action, ...)",
      "11. xformpoints.cmtkreg(reg, points, FallBackToAffine = FallBackToAffine, \n  .     na.action = na.action, ...)",
      "12. cmtk.streamxform(points, reg, direction, transformtype)",
      "13. stop(\"Error running CMTK streamxform!\")"
     ]
    }
   ],
   "source": [
    "xform(right.nrns, reg)"
   ]
  },
  {
   "cell_type": "code",
   "execution_count": 14,
   "metadata": {},
   "outputs": [
    {
     "data": {
      "text/html": [
       "'3.3.1'"
      ],
      "text/latex": [
       "'3.3.1'"
      ],
      "text/markdown": [
       "'3.3.1'"
      ],
      "text/plain": [
       "[1] \"3.3.1\""
      ]
     },
     "metadata": {},
     "output_type": "display_data"
    }
   ],
   "source": [
    "cmtk.dof2mat(version = TRUE)"
   ]
  },
  {
   "cell_type": "code",
   "execution_count": 15,
   "metadata": {},
   "outputs": [
    {
     "data": {
      "text/html": [
       "'/usr/lib/cmtk/bin'"
      ],
      "text/latex": [
       "'/usr/lib/cmtk/bin'"
      ],
      "text/markdown": [
       "'/usr/lib/cmtk/bin'"
      ],
      "text/plain": [
       "[1] \"/usr/lib/cmtk/bin\""
      ]
     },
     "metadata": {},
     "output_type": "display_data"
    }
   ],
   "source": [
    "cmtk.bindir()"
   ]
  },
  {
   "cell_type": "code",
   "execution_count": 6,
   "metadata": {},
   "outputs": [
    {
     "ename": "ERROR",
     "evalue": "Error in library(cmtk): there is no package called ‘cmtk’\n",
     "output_type": "error",
     "traceback": [
      "Error in library(cmtk): there is no package called ‘cmtk’\nTraceback:\n",
      "1. library(cmtk)"
     ]
    }
   ],
   "source": [
    "library(cmtk)"
   ]
  },
  {
   "cell_type": "code",
   "execution_count": 7,
   "metadata": {},
   "outputs": [
    {
     "name": "stderr",
     "output_type": "stream",
     "text": [
      "Warning message:\n",
      "“package ‘cmtk’ is not available (for R version 3.6.2)”\n"
     ]
    }
   ],
   "source": [
    "install.packages(\"cmtk\")"
   ]
  },
  {
   "cell_type": "code",
   "execution_count": null,
   "metadata": {},
   "outputs": [],
   "source": []
  }
 ],
 "metadata": {
  "kernelspec": {
   "display_name": "R",
   "language": "R",
   "name": "ir"
  },
  "language_info": {
   "codemirror_mode": "r",
   "file_extension": ".r",
   "mimetype": "text/x-r-source",
   "name": "R",
   "pygments_lexer": "r",
   "version": "3.6.2"
  }
 },
 "nbformat": 4,
 "nbformat_minor": 4
}
