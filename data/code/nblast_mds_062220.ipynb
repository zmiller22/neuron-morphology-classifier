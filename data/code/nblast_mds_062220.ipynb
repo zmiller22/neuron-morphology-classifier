{
 "cells": [
  {
   "cell_type": "code",
   "execution_count": 1,
   "metadata": {},
   "outputs": [],
   "source": [
    "lbl.path <- \"/home/zack/Desktop/Lab_Work/Projects/neuron-morphology-classifier/data/metadata.csv\"\n",
    "nrn.dists.left.path <- \"/home/zack/Desktop/Lab_Work/Projects/neuron-morphology-classifier/data/nblast/left_nblast_aba_norm_mean_distance_061720.csv\"\n",
    "mds.fit.dists.left.output.path <- \"/home/zack/Desktop/Lab_Work/Projects/neuron-morphology-classifier/data/nblast/nblast_mds\"\n",
    "\n",
    "nrn.dists.left <- read.csv(file=nrn.dists.left.path, row.names=1)"
   ]
  },
  {
   "cell_type": "code",
   "execution_count": 2,
   "metadata": {},
   "outputs": [],
   "source": [
    "# Perform multidimensional scaling on the distance matrix\n",
    "mds.fit.dists.left <- cmdscale(nrn.dists.left, eig=TRUE, k=1000)\n",
    "write.csv(mds.fit.dists.left$points, paste(mds.fit.dists.left.output.path, \"/nblast_dists_left_mds_062220.csv\", sep=\"\"), row.names=TRUE)"
   ]
  },
  {
   "cell_type": "code",
   "execution_count": null,
   "metadata": {},
   "outputs": [],
   "source": []
  }
 ],
 "metadata": {
  "kernelspec": {
   "display_name": "R",
   "language": "R",
   "name": "ir"
  },
  "language_info": {
   "codemirror_mode": "r",
   "file_extension": ".r",
   "mimetype": "text/x-r-source",
   "name": "R",
   "pygments_lexer": "r",
   "version": "3.6.2"
  }
 },
 "nbformat": 4,
 "nbformat_minor": 4
}
