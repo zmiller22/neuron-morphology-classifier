{
 "cells": [
  {
   "cell_type": "code",
   "execution_count": 1,
   "metadata": {},
   "outputs": [
    {
     "name": "stderr",
     "output_type": "stream",
     "text": [
      "Loading required package: rgl\n",
      "\n",
      "Registered S3 method overwritten by 'nat':\n",
      "  method             from\n",
      "  as.mesh3d.ashape3d rgl \n",
      "\n",
      "\n",
      "Attaching package: ‘nat’\n",
      "\n",
      "\n",
      "The following object is masked from ‘package:rgl’:\n",
      "\n",
      "    wire3d\n",
      "\n",
      "\n",
      "The following objects are masked from ‘package:base’:\n",
      "\n",
      "    intersect, setdiff, union\n",
      "\n",
      "\n"
     ]
    }
   ],
   "source": [
    "library(nat)\n",
    "library(nat.nblast)"
   ]
  },
  {
   "cell_type": "code",
   "execution_count": 2,
   "metadata": {},
   "outputs": [],
   "source": [
    "# Set paths for neurons and NBLAST output\n",
    "nrn.dir.path <- \"/home/zack/Desktop/Lab_Work/Projects/neuron-morphology-classifier/data/neurons/MPIN_reflected_061020/neurons/mirrored_right\"\n",
    "nblast.output.path <- \"/home/zack/Desktop/Lab_Work/Projects/neuron-morphology-classifier/data/neurons/MPIN_reflected_061020/nblast\""
   ]
  },
  {
   "cell_type": "code",
   "execution_count": 5,
   "metadata": {},
   "outputs": [],
   "source": [
    "# Read in the neurons\n",
    "nrns <- read.neurons(nrn.dir.path, format=\"swc\")"
   ]
  },
  {
   "cell_type": "code",
   "execution_count": 6,
   "metadata": {},
   "outputs": [],
   "source": [
    "# Convert neurons to dotprops \n",
    "nrns.dps <- dotprops(nrns, stepsize=1, OmitFailures=TRUE)"
   ]
  },
  {
   "cell_type": "code",
   "execution_count": 7,
   "metadata": {},
   "outputs": [],
   "source": [
    "# Perform NBLAST all-by-all distance calculcation and save to a .csv file\n",
    "nrn.dists <- nblast_allbyall(nrns.dps, distance=TRUE, normalisation=\"mean\")\n",
    "write.csv(nrn.dists, paste(nblast.output.path, \"/nblast_aba_norm_mean_distance_061720.csv\", sep=\"\"), row.names = TRUE)"
   ]
  },
  {
   "cell_type": "markdown",
   "metadata": {},
   "source": [
    "When converting the neurons to the dotprops (dps) representation, I used the same arguments to the `dotprops()` function as Dr. Kunst used in his paper. However, when calling `nblast_allbyall()`, I used all the same arguments except I set `distance=TRUE`. This is because the `cmdscale()` implimentation of mulitdimensional scaling in R requires a dissimilarity matrix rather than a similarity matrix. The output of `nblast_allbyall()` is by default a score matrix, which is a form of similarity matrix. Therefore, I `distance=TRUE` to get a distance matrix as the output, which is a form of dissimilarity matrix. I also ran the normal version below to get the score matrix. "
   ]
  },
  {
   "cell_type": "code",
   "execution_count": 8,
   "metadata": {},
   "outputs": [],
   "source": [
    "# Perform NBLAST all-by-all scoring calculation and save to a .csv file\n",
    "nrn.scores <- nblast_allbyall(nrns.dps, normalisation=\"mean\")\n",
    "write.csv(nrn.scores, paste(nblast.output.path, \"/nblast_aba_norm_mean_score_061720.csv\", sep=\"\"), row.names = TRUE)"
   ]
  },
  {
   "cell_type": "code",
   "execution_count": null,
   "metadata": {},
   "outputs": [],
   "source": []
  }
 ],
 "metadata": {
  "kernelspec": {
   "display_name": "R",
   "language": "R",
   "name": "ir"
  },
  "language_info": {
   "codemirror_mode": "r",
   "file_extension": ".r",
   "mimetype": "text/x-r-source",
   "name": "R",
   "pygments_lexer": "r",
   "version": "3.6.2"
  }
 },
 "nbformat": 4,
 "nbformat_minor": 4
}
