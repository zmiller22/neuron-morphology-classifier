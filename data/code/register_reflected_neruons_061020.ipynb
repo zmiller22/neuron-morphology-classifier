{
 "cells": [
  {
   "cell_type": "code",
   "execution_count": 1,
   "metadata": {},
   "outputs": [
    {
     "name": "stderr",
     "output_type": "stream",
     "text": [
      "Loading required package: rgl\n",
      "\n",
      "Registered S3 method overwritten by 'nat':\n",
      "  method             from\n",
      "  as.mesh3d.ashape3d rgl \n",
      "\n",
      "\n",
      "Attaching package: ‘nat’\n",
      "\n",
      "\n",
      "The following object is masked from ‘package:rgl’:\n",
      "\n",
      "    wire3d\n",
      "\n",
      "\n",
      "The following objects are masked from ‘package:base’:\n",
      "\n",
      "    intersect, setdiff, union\n",
      "\n",
      "\n"
     ]
    }
   ],
   "source": [
    "library(nat)\n",
    "library(nat.ants)\n",
    "library(parallel)"
   ]
  },
  {
   "cell_type": "code",
   "execution_count": 2,
   "metadata": {},
   "outputs": [],
   "source": [
    "# Read the neurons into a neuron list\n",
    "right.nrn.dir.path <- \"/home/zack/Desktop/Lab_Work/Projects/neuron-morphology-classifier/data/neurons/MPIN_reflected_061020/temp_neurons/flipped_to_right\"\n",
    "left.nrn.dir.path <- \"/home/zack/Desktop/Lab_Work/Projects/neuron-morphology-classifier/data/neurons/MPIN_reflected_061020/temp_neurons/flipped_to_left\"\n",
    "right.nrns <- read.neurons(right.nrn.dir.path, format=\"swc\")\n",
    "left.nrns <- read.neurons(left.nrn.dir.path, format=\"swc\")"
   ]
  },
  {
   "cell_type": "code",
   "execution_count": 3,
   "metadata": {},
   "outputs": [],
   "source": [
    "# Create registration set\n",
    "fwd.warp.path <- \"/home/zack/Downloads/Registration/T_bridgingMirroring_1Warp.nii.gz\"\n",
    "inv.warp.path <- \"/home/zack/Downloads/Registration/T_bridgingMirroring_1InverseWarp.nii.gz\"\n",
    "affine.path <- \"/home/zack/Downloads/Registration/T_bridgingMirroring_0GenericAffine.mat\"\n",
    "transform <- antsreg(inv.warp.path, affine.path, swap=c(FALSE, FALSE))"
   ]
  },
  {
   "cell_type": "code",
   "execution_count": 4,
   "metadata": {},
   "outputs": [],
   "source": [
    "# Set output paths \n",
    "right.output.path <- \"/home/zack/Desktop/Lab_Work/Projects/neuron-morphology-classifier/data/neurons/MPIN_reflected_061020/temp_neurons/reg_to_right\"\n",
    "left.output.path <- \"/home/zack/Desktop/Lab_Work/Projects/neuron-morphology-classifier/data/neurons/MPIN_reflected_061020/temp_neurons/reg_to_left\""
   ]
  },
  {
   "cell_type": "code",
   "execution_count": 6,
   "metadata": {},
   "outputs": [
    {
     "name": "stderr",
     "output_type": "stream",
     "text": [
      "Warning message in write.neuron(n, dir = thisdir, file = file, format = format, :\n",
      "“/home/zack/Desktop/Lab_Work/Projects/neuron-morphology-classifier/data/neurons/MPIN_reflected_061020/temp_neurons/reg_to_right/20150402_1013_BGUG_HuC_ltRFP_d5_F3.swc already exists; use Force=T to overwrite”\n",
      "Warning message in write.neuron(n, dir = thisdir, file = file, format = format, :\n",
      "“/home/zack/Desktop/Lab_Work/Projects/neuron-morphology-classifier/data/neurons/MPIN_reflected_061020/temp_neurons/reg_to_right/20160512_1013_BGUG_HuC_ltRFP_d6_F6_Neuron2.swc already exists; use Force=T to overwrite”\n",
      "Warning message in write.neuron(n, dir = thisdir, file = file, format = format, :\n",
      "“/home/zack/Desktop/Lab_Work/Projects/neuron-morphology-classifier/data/neurons/MPIN_reflected_061020/temp_neurons/reg_to_right/20160519_1013_BGUG_HuC_ltRFP_d6_F6.swc already exists; use Force=T to overwrite”\n",
      "Warning message in write.neuron(n, dir = thisdir, file = file, format = format, :\n",
      "“/home/zack/Desktop/Lab_Work/Projects/neuron-morphology-classifier/data/neurons/MPIN_reflected_061020/temp_neurons/reg_to_right/20160526_1013_BGUG_HuC_ltRFP_d6_F4.swc already exists; use Force=T to overwrite”\n",
      "Warning message in write.neuron(n, dir = thisdir, file = file, format = format, :\n",
      "“/home/zack/Desktop/Lab_Work/Projects/neuron-morphology-classifier/data/neurons/MPIN_reflected_061020/temp_neurons/reg_to_right/20160616_1013_BGUG_HuC_ltRFP_d7_F1.swc already exists; use Force=T to overwrite”\n"
     ]
    }
   ],
   "source": [
    "# Apply ANTs transformation to neurons and write them to a directory\n",
    "reg.right <- mclapply(right.nrns, xform, transform, mc.cores=2)\n",
    "write.neurons(reg.right, dir=right.output.path, format='swc')\n",
    "\n",
    "reg.left <- mclapply(left.nrns, xform, transform, mc.cores=2)\n",
    "write.neurons(reg.left, dir=left.output.path, format='swc')"
   ]
  },
  {
   "cell_type": "markdown",
   "metadata": {},
   "source": [
    "This code reads in the flipped neurons output by `reflect_neurons_061020.ipynb`. It then applies the mirroring transformtion given to me by Dr. Kunst from MPIN in the inverse direction. The result is neurons that are mirrored properly on each side.\n",
    "\n",
    "Note that this code used absolute file paths that have changed since it was run. `right.nrn.path` and `left.nrn.path` should lead to the folders containing the flipped neurons output by `reflect_neurons_061020.ipynb`. `fwd.warp.path`, `inv.warp.path` and `affine.path` should lead to the respective ANTs transformation files that are being applied (though you could delete `fwd.warp.path` since it is not used). Finally, `right.output.path` and `left.output.path` should lead to the directories that your want to right the mirrored neurons to. "
   ]
  }
 ],
 "metadata": {
  "kernelspec": {
   "display_name": "R",
   "language": "R",
   "name": "ir"
  },
  "language_info": {
   "codemirror_mode": "r",
   "file_extension": ".r",
   "mimetype": "text/x-r-source",
   "name": "R",
   "pygments_lexer": "r",
   "version": "3.6.2"
  }
 },
 "nbformat": 4,
 "nbformat_minor": 4
}
